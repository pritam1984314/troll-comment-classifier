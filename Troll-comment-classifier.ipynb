{
 "cells": [
  {
   "cell_type": "markdown",
   "metadata": {},
   "source": [
    "# How Facebook can save meaningful conversation"
   ]
  },
  {
   "cell_type": "markdown",
   "metadata": {},
   "source": [
    "Any medium have one clear objective that it must support effective and meaningful conversation. Social media is not exception for it. But recently social media is imfamous for chaos instead of communication. In my personal opinion most of time trolling leads to this chaos. "
   ]
  },
  {
   "cell_type": "markdown",
   "metadata": {},
   "source": [
    "Advancement in NLP and machine learning enhance ablities of machine to understand human languages with it's nuances.       "
   ]
  },
  {
   "cell_type": "markdown",
   "metadata": {},
   "source": [
    "There are multiple ways we can use to identify/classify troll comments on any random post. Following code will show simple way to implement troll classifier. With help of it we can define importance of comments according to it's meaning and sort comments order in such a way that more meaningful comments get more visibility."
   ]
  },
  {
   "cell_type": "markdown",
   "metadata": {},
   "source": [
    "Instead of creating classifier from scratch, we can make use of transfer learning. \n",
    "By defination storing knowledge gaining while solving one problem and applying it one different but related problem is known as transfer learning.\n"
   ]
  },
  {
   "cell_type": "markdown",
   "metadata": {},
   "source": [
    "For language understanding we are using BERT. BERT is pre-trained contextual language representation developed by Google. Hence instead of start with dataset generation to model generation/validation we directly use language model to understand nuance and identify trolling. "
   ]
  },
  {
   "cell_type": "markdown",
   "metadata": {},
   "source": [
    "Here for language understanding we are using bert-as-a-service implementation."
   ]
  },
  {
   "cell_type": "code",
   "execution_count": null,
   "metadata": {},
   "outputs": [],
   "source": [
    "!pip install bert-serving-server  # server\n",
    "!pip install bert-serving-client  # client"
   ]
  },
  {
   "cell_type": "markdown",
   "metadata": {},
   "source": [
    "Externally (i.e. in separate console) we start BERT service with BERT language model"
   ]
  },
  {
   "cell_type": "code",
   "execution_count": null,
   "metadata": {},
   "outputs": [],
   "source": [
    "bert-serving-start -model_dir /home/pritam/bert-models/uncased_L-12_H-768_A-12 num_worker=4"
   ]
  },
  {
   "cell_type": "markdown",
   "metadata": {},
   "source": [
    "Following dependencies need to declare"
   ]
  },
  {
   "cell_type": "code",
   "execution_count": 1,
   "metadata": {},
   "outputs": [],
   "source": [
    "import numpy as np\n",
    "from bert_serving.client import BertClient\n"
   ]
  },
  {
   "cell_type": "markdown",
   "metadata": {},
   "source": [
    "Encapsulate comparison of post with single comment in class Comment."
   ]
  },
  {
   "cell_type": "code",
   "execution_count": 19,
   "metadata": {},
   "outputs": [],
   "source": [
    "class Comment:\n",
    "    def __init__(self,post,comment):\n",
    "        super()\n",
    "        self.bc = BertClient()\n",
    "        self.post = post\n",
    "        self.comment = comment\n",
    "        self.post_embed = bc.encode([self.post])[0]\n",
    "        self.comment_embed = bc.encode([self.comment])[0] \n",
    "        \n",
    "    def get_similarity(self):\n",
    "        return np.dot(self.post_embed, self.comment_embed) / (np.linalg.norm(self.post_embed) * np.linalg.norm(self.comment_embed))\n"
   ]
  },
  {
   "cell_type": "markdown",
   "metadata": {},
   "source": [
    "Following is one simple example contains text of social media post with comments on that post."
   ]
  },
  {
   "cell_type": "code",
   "execution_count": 66,
   "metadata": {},
   "outputs": [],
   "source": [
    "post = 'Thousands say their final goodbyes to Bradley Lowery.'\n",
    "comments = ['such tragic incident can avoided','Rest in peace','World will never forget you','can\\'t people see and walk','so what can I do','There is solution for such incident, one must be attentive on road','rediculous','Lol']\n",
    "#comment1 = Comment(post,comment)"
   ]
  },
  {
   "cell_type": "markdown",
   "metadata": {},
   "source": [
    "convert plain texts in necessary object list."
   ]
  },
  {
   "cell_type": "code",
   "execution_count": 67,
   "metadata": {},
   "outputs": [],
   "source": [
    "def get_Comment_list(post,comments):\n",
    "    comment_list = []\n",
    "    for comment in comments:\n",
    "        comment_obj = Comment(post,comment)\n",
    "        comment_list.append(comment_obj)\n",
    "    return comment_list    "
   ]
  },
  {
   "cell_type": "code",
   "execution_count": 68,
   "metadata": {},
   "outputs": [],
   "source": [
    "comment_list = get_Comment_list(post,comments)"
   ]
  },
  {
   "cell_type": "markdown",
   "metadata": {},
   "source": [
    "Sort comments according to it's relevance score."
   ]
  },
  {
   "cell_type": "code",
   "execution_count": 69,
   "metadata": {},
   "outputs": [],
   "source": [
    "sorted_coment_list = sorted(comment_list,key=lambda x : x.get_similarity(), reverse=True)"
   ]
  },
  {
   "cell_type": "markdown",
   "metadata": {},
   "source": [
    "Now you can see most relevant comments according to algorithm comes first. Let us see quality of classification."
   ]
  },
  {
   "cell_type": "code",
   "execution_count": 70,
   "metadata": {},
   "outputs": [
    {
     "name": "stdout",
     "output_type": "stream",
     "text": [
      "World will never forget you\n",
      "Rest in peace\n",
      "such tragic incident can avoided\n",
      "can't people see and walk\n",
      "There is solution for such incident, one must be attentive on road\n",
      "Lol\n",
      "so what can I do\n",
      "rediculous\n"
     ]
    }
   ],
   "source": [
    "for comment in sorted_coment_list:\n",
    "    print(comment.comment)"
   ]
  },
  {
   "cell_type": "markdown",
   "metadata": {},
   "source": [
    "This is pretty simple implementation for troll comment classification. Going further we can use more complex mechanism. In this approach we are treating similarity and relevance in same way. Sometimes relevance and similarities may have different meanings."
   ]
  },
  {
   "cell_type": "markdown",
   "metadata": {},
   "source": [
    "Interesting Readings:\n",
    "https://medium.com/analytics-vidhya/semantic-similarity-in-sentences-and-bert-e8d34f5a4677\n",
    "http://nlp.town/blog/sentence-similarity/"
   ]
  }
 ],
 "metadata": {
  "kernelspec": {
   "display_name": "Python 3",
   "language": "python",
   "name": "python3"
  },
  "language_info": {
   "codemirror_mode": {
    "name": "ipython",
    "version": 3
   },
   "file_extension": ".py",
   "mimetype": "text/x-python",
   "name": "python",
   "nbconvert_exporter": "python",
   "pygments_lexer": "ipython3",
   "version": "3.7.6"
  }
 },
 "nbformat": 4,
 "nbformat_minor": 4
}
